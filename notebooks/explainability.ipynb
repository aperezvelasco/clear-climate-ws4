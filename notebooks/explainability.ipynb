{
 "cells": [
  {
   "metadata": {},
   "cell_type": "markdown",
   "source": [
    "# Explainability for Deep Learning Climate Downscaling\n",
    "\n",
    "This notebook demonstrates how to apply **Explainable AI (XAI)** techniques to deep learning models trained for spatial downscaling from ERA5 to CERRA temperature data over South-East Europe (SEE). We will use the [Quantus](https://github.com/understandable-machine-intelligence-lab/quantus) library to apply and evaluate saliency-based XAI methods.\n",
    "\n",
    "## 🔍 Goals\n",
    "- Load trained models and test data\n",
    "- Generate saliency maps using Quantus\n",
    "- Compare explanation patterns between DeepESD and U-Net\n",
    "- Visualize attribution over the spatial domain"
   ],
   "id": "4382c61eb0f5fed8"
  },
  {
   "metadata": {
    "ExecuteTime": {
     "end_time": "2025-05-16T11:37:39.907813Z",
     "start_time": "2025-05-16T11:37:33.273176Z"
    }
   },
   "cell_type": "code",
   "source": [
    "import logging\n",
    "\n",
    "logging.basicConfig(level=logging.INFO)\n",
    "logging.info(\"🔁 Starting imports...\")\n",
    "\n",
    "try:\n",
    "    import os\n",
    "\n",
    "    logging.info(\"✅ Imported os\")\n",
    "\n",
    "    import torch\n",
    "\n",
    "    logging.info(\"✅ Imported torch\")\n",
    "\n",
    "    import xarray as xr\n",
    "\n",
    "    logging.info(\"✅ Imported xarray\")\n",
    "\n",
    "    import numpy as np\n",
    "\n",
    "    logging.info(\"✅ Imported numpy\")\n",
    "\n",
    "    import pandas as pd\n",
    "\n",
    "    logging.info(\"✅ Imported pandas\")\n",
    "\n",
    "    import matplotlib.pyplot as plt\n",
    "\n",
    "    logging.info(\"✅ Imported matplotlib\")\n",
    "\n",
    "    import quantus\n",
    "\n",
    "    logging.info(\"✅ Imported quantus\")\n",
    "\n",
    "    from xbatcher import BatchGenerator\n",
    "\n",
    "    logging.info(\"✅ Imported xbatcher\")\n",
    "\n",
    "    from torch.utils.data import DataLoader\n",
    "\n",
    "    logging.info(\"✅ Imported torch.utils.data\")\n",
    "\n",
    "    from IPython.display import display, Image\n",
    "\n",
    "    logging.info(\"✅ Imported IPython.display\")\n",
    "\n",
    "    import cartopy.crs as ccrs\n",
    "\n",
    "    logging.info(\"✅ Imported cartopy.crs\")\n",
    "\n",
    "    import cartopy.feature as cfeature\n",
    "\n",
    "    logging.info(\"✅ Imported cartopy.feature\")\n",
    "\n",
    "    import warnings\n",
    "\n",
    "    logging.info(\"✅ Imported warnings\")\n",
    "\n",
    "    from source.model_deepesd import DeepESD\n",
    "    from source.model_unet import UNet\n",
    "\n",
    "    logging.info(\"✅ Imported local models\")\n",
    "\n",
    "except Exception as e:\n",
    "    logging.error(f\"❌ Import failed: {e}\")\n",
    "    raise e\n",
    "\n",
    "warnings.filterwarnings(\"ignore\")\n",
    "DEVICE = torch.device(\"cuda\" if torch.cuda.is_available() else \"cpu\")\n",
    "logging.info(f\"📦 Using device: {DEVICE}\")"
   ],
   "id": "7eebc11dc6d13b56",
   "outputs": [
    {
     "name": "stderr",
     "output_type": "stream",
     "text": [
      "INFO:root:🔁 Starting imports...\n",
      "INFO:root:✅ Imported os\n",
      "INFO:root:✅ Imported torch\n",
      "INFO:root:✅ Imported xarray\n",
      "INFO:root:✅ Imported numpy\n",
      "INFO:root:✅ Imported pandas\n",
      "INFO:root:✅ Imported matplotlib\n",
      "/home/pereza/miniconda3/envs/clearclimate-ws4/lib/python3.10/site-packages/tqdm/auto.py:21: TqdmWarning: IProgress not found. Please update jupyter and ipywidgets. See https://ipywidgets.readthedocs.io/en/stable/user_install.html\n",
      "  from .autonotebook import tqdm as notebook_tqdm\n",
      "INFO:root:✅ Imported quantus\n",
      "INFO:root:✅ Imported xbatcher\n",
      "INFO:root:✅ Imported torch.utils.data\n",
      "INFO:root:✅ Imported IPython.display\n",
      "INFO:root:✅ Imported cartopy.crs\n",
      "INFO:root:✅ Imported cartopy.feature\n",
      "INFO:root:✅ Imported warnings\n",
      "INFO:root:✅ Imported local models\n",
      "INFO:root:📦 Using device: cuda\n"
     ]
    }
   ],
   "execution_count": 1
  },
  {
   "metadata": {},
   "cell_type": "markdown",
   "source": [
    "## 📥 Load Test Data and Models\n",
    "\n",
    "In this section, we load the preprocessed test data from ERA5 (inputs) and CERRA (targets), and load the trained models stored on disk."
   ],
   "id": "24a8ca7d925d8a23"
  },
  {
   "metadata": {
    "jupyter": {
     "is_executing": true
    },
    "ExecuteTime": {
     "start_time": "2025-05-16T11:37:40.143146Z"
    }
   },
   "cell_type": "code",
   "source": [
    "from source.generate_dataloader import load_netcdf_pair\n",
    "\n",
    "logging.info(\"Generating test dataloader...\")\n",
    "\n",
    "# Paths\n",
    "test_era5 = \"../data/test_era5.nc\"\n",
    "input_lats = xr.open_dataset(\"../data/test_era5.nc\")[\"lat\"].values\n",
    "input_lons = xr.open_dataset(\"../data/test_era5.nc\")[\"lon\"].values\n",
    "\n",
    "test_cerra = \"../data/test_cerra.nc\"\n",
    "output_lats = xr.open_dataset(\"../data/test_cerra.nc\")[\"lat\"].values\n",
    "output_lons = xr.open_dataset(\"../data/test_cerra.nc\")[\"lon\"].values\n",
    "\n",
    "test_dataloader = load_netcdf_pair(test_era5, test_cerra, batch_size=1)\n",
    "input_sample, target_sample = test_dataloader.dataset[0]\n",
    "logging.info(\"Test dataloader created successfully\")\n",
    "logging.info(f\"Loaded one test sample with shape: {input_sample.shape}\")"
   ],
   "id": "c61dcd3fdf291534",
   "outputs": [
    {
     "name": "stderr",
     "output_type": "stream",
     "text": [
      "INFO:root:Generating test dataloader...\n"
     ]
    }
   ],
   "execution_count": null
  },
  {
   "metadata": {},
   "cell_type": "markdown",
   "source": [
    "## 🔧 Load Trained DeepESD and U-Net Models\n",
    "\n",
    "Now we initialize both architectures and load their pre-trained weights. These models were trained for temperature downscaling in the WS4 training notebook.\n"
   ],
   "id": "fb0121ee2588a7b8"
  },
  {
   "metadata": {
    "ExecuteTime": {
     "end_time": "2025-05-16T11:33:21.967448949Z",
     "start_time": "2025-05-16T11:30:54.157935Z"
    }
   },
   "cell_type": "code",
   "source": [
    "# Paths to trained models\n",
    "model_path_deepesd = \"../models/model_deepesd.pt\"\n",
    "model_path_unet = \"../models/model_unet.pt\"\n",
    "\n",
    "# Infer shapes from test data\n",
    "input_shape = input_sample.shape[-2:]\n",
    "output_shape = target_sample.shape[-2:]\n",
    "\n",
    "logging.info(\"🔧 Loading DeepESD model...\")\n",
    "deepesd_model = DeepESD(input_shape, output_shape, 1, 1)\n",
    "deepesd_model.load_state_dict(torch.load(model_path_deepesd, map_location=DEVICE))\n",
    "deepesd_model.to(DEVICE).eval()\n",
    "logging.info(\"✅ DeepESD loaded.\")\n",
    "\n",
    "logging.info(\"🔧 Loading U-Net model...\")\n",
    "unet_model = UNet(input_shape, output_shape, 1, 1)\n",
    "unet_model.load_state_dict(torch.load(model_path_unet, map_location=DEVICE))\n",
    "unet_model.to(DEVICE).eval()\n",
    "logging.info(\"✅ U-Net loaded.\")"
   ],
   "id": "4b56295cf3d986b9",
   "outputs": [
    {
     "name": "stderr",
     "output_type": "stream",
     "text": [
      "INFO:root:🔧 Loading DeepESD model...\n",
      "INFO:root:✅ DeepESD loaded.\n",
      "INFO:root:🔧 Loading U-Net model...\n",
      "INFO:root:✅ U-Net loaded.\n"
     ]
    }
   ],
   "execution_count": 3
  },
  {
   "metadata": {},
   "cell_type": "markdown",
   "source": [
    "## Load or Generate Explanations\n",
    "\n",
    "In order to evaluate explainability techniques with Quantus, we need a batch of **inputs**, **targets**, and corresponding **attributions (explanations)**.\n",
    "\n",
    "There are two options:\n",
    "\n",
    "- 🔁 **Option A: Use pre-computed attributions**, e.g., from Captum\n",
    "- 🧠 **Option B: Use a callable explanation function**, such as `quantus.explain()` or a custom function\n",
    "\n",
    "In this example, we use **Captum** to compute both **Saliency** and **Integrated Gradients** attributions for a single input batch from our test dataset.\n"
   ],
   "id": "4a3760ed6916b563"
  },
  {
   "metadata": {
    "ExecuteTime": {
     "end_time": "2025-05-16T11:33:21.967882933Z",
     "start_time": "2025-05-16T11:30:56.143697Z"
    }
   },
   "cell_type": "code",
   "source": [
    "# Load predictions and target data\n",
    "deepesd_ds = xr.open_dataset(\"../data/test_deepesd.nc\")\n",
    "unet_ds = xr.open_dataset(\"../data/test_unet.nc\")\n",
    "target_ds = xr.open_dataset(\"../data/test_cerra.nc\")\n",
    "\n",
    "# Load data\n",
    "deepesd_np = xr.open_dataset(\"../data/test_deepesd.nc\")[\n",
    "    \"t2m\"\n",
    "].values  # (time, lat, lon)\n",
    "unet_np = xr.open_dataset(\"../data/test_unet.nc\")[\"t2m\"].values\n",
    "target_np = xr.open_dataset(\"../data/test_cerra.nc\")[\"t2m\"].values\n",
    "\n",
    "# Ensure all arrays have shape (time, lat, lon)\n",
    "if target_np.shape != deepesd_np.shape:\n",
    "    target_np = np.transpose(target_np, (2, 0, 1))\n",
    "\n",
    "# Compute RMSE for each pixel (lat, lon)\n",
    "rmse_deepesd = np.sqrt(np.mean((deepesd_np - target_np) ** 2, axis=0))\n",
    "rmse_unet = np.sqrt(np.mean((unet_np - target_np) ** 2, axis=0))\n",
    "\n",
    "\n",
    "def select_diverse_high_error_pixels(error_map, num_pixels=5, min_distance=10):\n",
    "    flat_indices = np.argsort(error_map.ravel())[::-1]\n",
    "    lat_lon_indices = np.array(np.unravel_index(flat_indices, error_map.shape)).T\n",
    "\n",
    "    selected = []\n",
    "    for lat_idx, lon_idx in lat_lon_indices:\n",
    "        if all(\n",
    "            np.linalg.norm(np.array([lat_idx, lon_idx]) - np.array(p)) >= min_distance\n",
    "            for p in selected\n",
    "        ):\n",
    "            selected.append([lat_idx, lon_idx])\n",
    "        if len(selected) == num_pixels:\n",
    "            break\n",
    "\n",
    "    return selected\n",
    "\n",
    "\n",
    "# Apply to each RMSE map\n",
    "coords_deepesd = select_diverse_high_error_pixels(\n",
    "    rmse_deepesd, num_pixels=5, min_distance=10\n",
    ")\n",
    "coords_unet = select_diverse_high_error_pixels(rmse_unet, num_pixels=5, min_distance=10)\n",
    "\n",
    "\n",
    "def find_nearest_index(array, value):\n",
    "    return (np.abs(array - value)).argmin()\n",
    "\n",
    "\n",
    "def build_pixel_df(model_name, coords, rmse_map):\n",
    "    output_lat_idx = [lat for lat, lon in coords]\n",
    "    output_lon_idx = [lon for lat, lon in coords]\n",
    "    output_lat_val = [output_lats[lat] for lat in output_lat_idx]\n",
    "    output_lon_val = [output_lons[lon] for lon in output_lon_idx]\n",
    "    input_lat_idx = [find_nearest_index(input_lats, val) for val in output_lat_val]\n",
    "    input_lon_idx = [find_nearest_index(input_lons, val) for val in output_lon_val]\n",
    "    rmse_vals = [rmse_map[lat, lon] for lat, lon in coords]\n",
    "\n",
    "    return pd.DataFrame(\n",
    "        {\n",
    "            \"Model\": [model_name] * len(coords),\n",
    "            \"RMSE\": rmse_vals,\n",
    "            \"output_lat_idx\": output_lat_idx,\n",
    "            \"output_lon_idx\": output_lon_idx,\n",
    "            \"output_lat_value\": output_lat_val,\n",
    "            \"output_lon_value\": output_lon_val,\n",
    "            \"input_lat_idx\": input_lat_idx,\n",
    "            \"input_lon_idx\": input_lon_idx,\n",
    "        }\n",
    "    )\n",
    "\n",
    "\n",
    "# Build separate DataFrames and concatenate\n",
    "df_deepesd = build_pixel_df(\"DeepESD\", coords_deepesd, rmse_deepesd)\n",
    "df_unet = build_pixel_df(\"UNet\", coords_unet, rmse_unet)\n",
    "df = pd.concat([df_deepesd, df_unet], ignore_index=True)\n",
    "\n",
    "display(df)"
   ],
   "id": "50d834dc0f65dada",
   "outputs": [
    {
     "data": {
      "text/plain": [
       "     Model      RMSE  output_lat_idx  output_lon_idx  output_lat_value  \\\n",
       "0  DeepESD  1.966037              40             134             43.04   \n",
       "1  DeepESD  1.956723              27              66             42.39   \n",
       "2  DeepESD  1.915246              37             151             42.89   \n",
       "3  DeepESD  1.878949              35              20             42.79   \n",
       "4  DeepESD  1.835484              28             137             42.44   \n",
       "5     UNet  3.389820              13             127             41.69   \n",
       "6     UNet  3.361221              15              68             41.79   \n",
       "7     UNet  3.342817               6             115             41.34   \n",
       "8     UNet  3.326617              23             122             42.19   \n",
       "9     UNet  3.022889               0              98             41.04   \n",
       "\n",
       "   output_lon_value  input_lat_idx  input_lon_idx  \n",
       "0             23.84             24             43  \n",
       "1             20.44             22             30  \n",
       "2             24.69             24             47  \n",
       "3             18.14             23             21  \n",
       "4             23.99             22             44  \n",
       "5             23.49             19             42  \n",
       "6             20.54             19             30  \n",
       "7             22.89             17             40  \n",
       "8             23.24             21             41  \n",
       "9             22.04             16             36  "
      ],
      "text/html": [
       "<div>\n",
       "<style scoped>\n",
       "    .dataframe tbody tr th:only-of-type {\n",
       "        vertical-align: middle;\n",
       "    }\n",
       "\n",
       "    .dataframe tbody tr th {\n",
       "        vertical-align: top;\n",
       "    }\n",
       "\n",
       "    .dataframe thead th {\n",
       "        text-align: right;\n",
       "    }\n",
       "</style>\n",
       "<table border=\"1\" class=\"dataframe\">\n",
       "  <thead>\n",
       "    <tr style=\"text-align: right;\">\n",
       "      <th></th>\n",
       "      <th>Model</th>\n",
       "      <th>RMSE</th>\n",
       "      <th>output_lat_idx</th>\n",
       "      <th>output_lon_idx</th>\n",
       "      <th>output_lat_value</th>\n",
       "      <th>output_lon_value</th>\n",
       "      <th>input_lat_idx</th>\n",
       "      <th>input_lon_idx</th>\n",
       "    </tr>\n",
       "  </thead>\n",
       "  <tbody>\n",
       "    <tr>\n",
       "      <th>0</th>\n",
       "      <td>DeepESD</td>\n",
       "      <td>1.966037</td>\n",
       "      <td>40</td>\n",
       "      <td>134</td>\n",
       "      <td>43.04</td>\n",
       "      <td>23.84</td>\n",
       "      <td>24</td>\n",
       "      <td>43</td>\n",
       "    </tr>\n",
       "    <tr>\n",
       "      <th>1</th>\n",
       "      <td>DeepESD</td>\n",
       "      <td>1.956723</td>\n",
       "      <td>27</td>\n",
       "      <td>66</td>\n",
       "      <td>42.39</td>\n",
       "      <td>20.44</td>\n",
       "      <td>22</td>\n",
       "      <td>30</td>\n",
       "    </tr>\n",
       "    <tr>\n",
       "      <th>2</th>\n",
       "      <td>DeepESD</td>\n",
       "      <td>1.915246</td>\n",
       "      <td>37</td>\n",
       "      <td>151</td>\n",
       "      <td>42.89</td>\n",
       "      <td>24.69</td>\n",
       "      <td>24</td>\n",
       "      <td>47</td>\n",
       "    </tr>\n",
       "    <tr>\n",
       "      <th>3</th>\n",
       "      <td>DeepESD</td>\n",
       "      <td>1.878949</td>\n",
       "      <td>35</td>\n",
       "      <td>20</td>\n",
       "      <td>42.79</td>\n",
       "      <td>18.14</td>\n",
       "      <td>23</td>\n",
       "      <td>21</td>\n",
       "    </tr>\n",
       "    <tr>\n",
       "      <th>4</th>\n",
       "      <td>DeepESD</td>\n",
       "      <td>1.835484</td>\n",
       "      <td>28</td>\n",
       "      <td>137</td>\n",
       "      <td>42.44</td>\n",
       "      <td>23.99</td>\n",
       "      <td>22</td>\n",
       "      <td>44</td>\n",
       "    </tr>\n",
       "    <tr>\n",
       "      <th>5</th>\n",
       "      <td>UNet</td>\n",
       "      <td>3.389820</td>\n",
       "      <td>13</td>\n",
       "      <td>127</td>\n",
       "      <td>41.69</td>\n",
       "      <td>23.49</td>\n",
       "      <td>19</td>\n",
       "      <td>42</td>\n",
       "    </tr>\n",
       "    <tr>\n",
       "      <th>6</th>\n",
       "      <td>UNet</td>\n",
       "      <td>3.361221</td>\n",
       "      <td>15</td>\n",
       "      <td>68</td>\n",
       "      <td>41.79</td>\n",
       "      <td>20.54</td>\n",
       "      <td>19</td>\n",
       "      <td>30</td>\n",
       "    </tr>\n",
       "    <tr>\n",
       "      <th>7</th>\n",
       "      <td>UNet</td>\n",
       "      <td>3.342817</td>\n",
       "      <td>6</td>\n",
       "      <td>115</td>\n",
       "      <td>41.34</td>\n",
       "      <td>22.89</td>\n",
       "      <td>17</td>\n",
       "      <td>40</td>\n",
       "    </tr>\n",
       "    <tr>\n",
       "      <th>8</th>\n",
       "      <td>UNet</td>\n",
       "      <td>3.326617</td>\n",
       "      <td>23</td>\n",
       "      <td>122</td>\n",
       "      <td>42.19</td>\n",
       "      <td>23.24</td>\n",
       "      <td>21</td>\n",
       "      <td>41</td>\n",
       "    </tr>\n",
       "    <tr>\n",
       "      <th>9</th>\n",
       "      <td>UNet</td>\n",
       "      <td>3.022889</td>\n",
       "      <td>0</td>\n",
       "      <td>98</td>\n",
       "      <td>41.04</td>\n",
       "      <td>22.04</td>\n",
       "      <td>16</td>\n",
       "      <td>36</td>\n",
       "    </tr>\n",
       "  </tbody>\n",
       "</table>\n",
       "</div>"
      ]
     },
     "metadata": {},
     "output_type": "display_data"
    }
   ],
   "execution_count": 4
  },
  {
   "metadata": {
    "ExecuteTime": {
     "end_time": "2025-05-16T11:33:21.969192792Z",
     "start_time": "2025-05-16T11:30:59.971742Z"
    }
   },
   "cell_type": "code",
   "source": [
    "from captum.attr import Saliency, IntegratedGradients\n",
    "import torch\n",
    "import numpy as np\n",
    "import logging\n",
    "\n",
    "# Ensure models are in eval mode\n",
    "deepesd_model.eval()\n",
    "unet_model.eval()\n",
    "\n",
    "# Get one batch\n",
    "x_batch, y_batch = next(iter(test_dataloader))\n",
    "x_batch, y_batch = x_batch.to(DEVICE), y_batch.to(DEVICE)\n",
    "\n",
    "# Extract input-side pixel indices from df\n",
    "deepesd_pixels = df[df[\"Model\"] == \"DeepESD\"][\n",
    "    [\"output_lat_idx\", \"output_lon_idx\"]\n",
    "].values\n",
    "unet_pixels = df[df[\"Model\"] == \"UNet\"][[\"output_lat_idx\", \"output_lon_idx\"]].values\n",
    "\n",
    "# Get spatial dimensions from input batch\n",
    "_, _, H, W = x_batch.shape\n",
    "\n",
    "\n",
    "def compute_attributions(model, x, lat_idx, lon_idx):\n",
    "    x = x.requires_grad_()\n",
    "    lat_idx = min(lat_idx, H - 1)\n",
    "    lon_idx = min(lon_idx, W - 1)\n",
    "\n",
    "    def forward_func(input_tensor):\n",
    "        output = model(input_tensor)\n",
    "        return output[:, 0, lat_idx, lon_idx]  # shape (B,)\n",
    "\n",
    "    model.zero_grad()\n",
    "    saliency = Saliency(forward_func).attribute(x, abs=True)\n",
    "    intgrad = IntegratedGradients(forward_func).attribute(\n",
    "        x, baselines=torch.zeros_like(x)\n",
    "    )\n",
    "\n",
    "    return saliency.detach().cpu().numpy(), intgrad.detach().cpu().numpy()\n",
    "\n",
    "\n",
    "# Store results\n",
    "attributions = {\n",
    "    \"DeepESD\": {\"saliency\": [], \"ig\": []},\n",
    "    \"UNet\": {\"saliency\": [], \"ig\": []},\n",
    "}\n",
    "\n",
    "# DeepESD\n",
    "logging.info(\"🔍 Generating attributions for DeepESD...\")\n",
    "for lat_idx, lon_idx in deepesd_pixels:\n",
    "    sal, ig = compute_attributions(deepesd_model, x_batch, lat_idx, lon_idx)\n",
    "    attributions[\"DeepESD\"][\"saliency\"].append(sal)\n",
    "    attributions[\"DeepESD\"][\"ig\"].append(ig)\n",
    "\n",
    "# UNet\n",
    "logging.info(\"🔍 Generating attributions for UNet...\")\n",
    "for lat_idx, lon_idx in unet_pixels:\n",
    "    sal, ig = compute_attributions(unet_model, x_batch, lat_idx, lon_idx)\n",
    "    attributions[\"UNet\"][\"saliency\"].append(sal)\n",
    "    attributions[\"UNet\"][\"ig\"].append(ig)\n",
    "\n",
    "logging.info(\"✅ All saliency and IG maps computed.\")"
   ],
   "id": "6d9eb93adea16a14",
   "outputs": [
    {
     "name": "stderr",
     "output_type": "stream",
     "text": [
      "INFO:root:🔍 Generating attributions for DeepESD...\n",
      "INFO:root:🔍 Generating attributions for UNet...\n",
      "INFO:root:✅ All saliency and IG maps computed.\n"
     ]
    }
   ],
   "execution_count": 5
  },
  {
   "metadata": {
    "ExecuteTime": {
     "end_time": "2025-05-16T11:33:21.969648621Z",
     "start_time": "2025-05-16T11:31:01.954476Z"
    }
   },
   "cell_type": "code",
   "source": [
    "print(\"DeepESD saliency:\", len(attributions[\"DeepESD\"][\"saliency\"]))\n",
    "print(\"UNet saliency:\", len(attributions[\"UNet\"][\"saliency\"]))\n",
    "print(\"DeepESD IG:\", len(attributions[\"DeepESD\"][\"ig\"]))\n",
    "print(\"UNet IG:\", len(attributions[\"UNet\"][\"ig\"]))"
   ],
   "id": "ebed177812b55341",
   "outputs": [
    {
     "name": "stdout",
     "output_type": "stream",
     "text": [
      "DeepESD saliency: 5\n",
      "UNet saliency: 5\n",
      "DeepESD IG: 5\n",
      "UNet IG: 5\n"
     ]
    }
   ],
   "execution_count": 6
  },
  {
   "metadata": {
    "ExecuteTime": {
     "end_time": "2025-05-16T11:33:21.970024933Z",
     "start_time": "2025-05-16T11:33:03.171348Z"
    }
   },
   "cell_type": "code",
   "source": "from source.plot_explanation_maps import plot_explanation_map",
   "id": "5fb1c8e955d4b390",
   "outputs": [],
   "execution_count": 10
  },
  {
   "metadata": {
    "ExecuteTime": {
     "end_time": "2025-05-16T11:33:21.970529652Z",
     "start_time": "2025-05-16T11:33:04.549641Z"
    }
   },
   "cell_type": "code",
   "source": [
    "from IPython.display import Markdown, display\n",
    "\n",
    "with open(\"../source/plot_explanation_maps.py\", \"r\") as f:\n",
    "    code = f.read()\n",
    "\n",
    "display(Markdown(f\"```python\\n{code}\\n```\"))"
   ],
   "id": "166d7d13ae9918e5",
   "outputs": [
    {
     "data": {
      "text/plain": [
       "<IPython.core.display.Markdown object>"
      ],
      "text/markdown": "```python\nimport matplotlib.pyplot as plt\nimport cartopy.crs as ccrs\nimport cartopy.feature as cfeature\nimport xarray as xr\nimport numpy as np\n\n\ndef plot_explanation_map(\n    attr,\n    title,\n    input_lats=None,\n    input_lons=None,\n    pixel_coords=None,\n    cmap=\"Oranges\",\n    filename=None,\n):\n    # Convert numpy to xarray.DataArray\n    data = attr[0, 0, :, :]\n    da = xr.DataArray(\n        data,\n        dims=(\"lat\", \"lon\"),\n        coords={\"lat\": input_lats, \"lon\": input_lons},\n        name=\"attribution\",\n    )\n\n    fig = plt.figure(figsize=(8, 6))\n    ax = plt.axes(projection=ccrs.PlateCarree())\n\n    # Plot attribution\n    im = da.plot.pcolormesh(\n        ax=ax,\n        transform=ccrs.PlateCarree(),\n        cmap=cmap,\n        add_colorbar=True,\n        cbar_kwargs={\"orientation\": \"horizontal\", \"label\": \"Attribution Value\"},\n    )\n\n    ax.coastlines(resolution=\"10m\", linestyle=\"-\", linewidths=0.5)\n    ax.add_feature(cfeature.BORDERS, linestyle=\"-\", linewidth=0.5)\n\n    # Optional pixel highlight\n    if pixel_coords:\n        lat_idx, lon_idx = pixel_coords\n        lat_val = input_lats[lat_idx]\n        lon_val = input_lons[lon_idx]\n        ax.plot(\n            lon_val,\n            lat_val,\n            marker=\"o\",\n            color=\"black\",\n            markersize=6,\n            transform=ccrs.PlateCarree(),\n        )\n\n    if filename:\n        plt.savefig(filename, dpi=300, bbox_inches=\"tight\")\n        plt.close()\n    else:\n        plt.show()\n\n    return filename\n\n```"
     },
     "metadata": {},
     "output_type": "display_data"
    }
   ],
   "execution_count": 11
  },
  {
   "metadata": {
    "ExecuteTime": {
     "end_time": "2025-05-16T11:33:21.971082124Z",
     "start_time": "2025-05-16T11:33:07.269872Z"
    }
   },
   "cell_type": "code",
   "source": [
    "# Generate and save explanation figures\n",
    "os.makedirs(\"../outputs/figures/explainability\", exist_ok=True)\n",
    "\n",
    "for i in range(5):\n",
    "    output_lat_idx, output_lon_idx = deepesd_pixels[i]\n",
    "    input_coords = df[df[\"output_lat_idx\"] == output_lat_idx][\n",
    "        df[\"output_lon_idx\"] == output_lon_idx\n",
    "    ][[\"input_lat_idx\", \"input_lon_idx\"]].values[0]\n",
    "    input_lat_idx, input_lon_idx = input_coords\n",
    "\n",
    "    output_path = plot_explanation_map(\n",
    "        attributions[\"DeepESD\"][\"saliency\"][i],\n",
    "        title=\"DeepESD - Saliency\",\n",
    "        input_lats=input_lats,\n",
    "        input_lons=input_lons,\n",
    "        filename=f\"../outputs/figures/explainability/deepesd_saliency_pixel-{i+1}.png\",\n",
    "        pixel_coords=(input_lat_idx, input_lon_idx),\n",
    "    )\n",
    "    logging.info(f\"📸 Figure saved to {output_path}\")\n",
    "    display(Image(output_path))\n",
    "\n",
    "    output_path = plot_explanation_map(\n",
    "        attributions[\"DeepESD\"][\"ig\"][i],\n",
    "        title=\"DeepESD - IntegratedGradients\",\n",
    "        input_lats=input_lats,\n",
    "        input_lons=input_lons,\n",
    "        filename=f\"../outputs/figures/explainability/deepesd_ig_pixel-{i+1}.png\",\n",
    "        pixel_coords=(input_lat_idx, input_lon_idx),\n",
    "    )\n",
    "\n",
    "for i in range(5):\n",
    "    output_lat_idx, output_lon_idx = unet_pixels[i]\n",
    "    input_coords = df[df[\"output_lat_idx\"] == output_lat_idx][\n",
    "        df[\"output_lon_idx\"] == output_lon_idx\n",
    "    ][[\"input_lat_idx\", \"input_lon_idx\"]].values[0]\n",
    "    input_lat_idx, input_lon_idx = input_coords\n",
    "\n",
    "    output_path = plot_explanation_map(\n",
    "        attributions[\"UNet\"][\"saliency\"][i],\n",
    "        title=\"UNet - Saliency\",\n",
    "        input_lats=input_lats,\n",
    "        input_lons=input_lons,\n",
    "        filename=f\"../outputs/figures/explainability/unet_saliency_pixel-{i+1}.png\",\n",
    "        pixel_coords=(input_lat_idx, input_lon_idx),\n",
    "    )\n",
    "    logging.info(f\"📸 Figure saved to {output_path}\")\n",
    "    display(Image(output_path))\n",
    "\n",
    "    output_path = plot_explanation_map(\n",
    "        attributions[\"UNet\"][\"ig\"][i],\n",
    "        title=\"UNet - IntegratedGradients\",\n",
    "        input_lats=input_lats,\n",
    "        input_lons=input_lons,\n",
    "        filename=f\"../outputs/figures/explainability/unet_ig_pixel-{i+1}.png\",\n",
    "        pixel_coords=(input_lat_idx, input_lon_idx),\n",
    "    )"
   ],
   "id": "c18f62d031fa1656",
   "outputs": [
    {
     "ename": "NameError",
     "evalue": "name 'suptitle' is not defined",
     "output_type": "error",
     "traceback": [
      "\u001B[0;31m---------------------------------------------------------------------------\u001B[0m",
      "\u001B[0;31mNameError\u001B[0m                                 Traceback (most recent call last)",
      "Cell \u001B[0;32mIn[12], line 11\u001B[0m\n\u001B[1;32m      6\u001B[0m input_coords \u001B[38;5;241m=\u001B[39m df[df[\u001B[38;5;124m\"\u001B[39m\u001B[38;5;124moutput_lat_idx\u001B[39m\u001B[38;5;124m\"\u001B[39m] \u001B[38;5;241m==\u001B[39m output_lat_idx][\n\u001B[1;32m      7\u001B[0m     df[\u001B[38;5;124m\"\u001B[39m\u001B[38;5;124moutput_lon_idx\u001B[39m\u001B[38;5;124m\"\u001B[39m] \u001B[38;5;241m==\u001B[39m output_lon_idx\n\u001B[1;32m      8\u001B[0m ][[\u001B[38;5;124m\"\u001B[39m\u001B[38;5;124minput_lat_idx\u001B[39m\u001B[38;5;124m\"\u001B[39m, \u001B[38;5;124m\"\u001B[39m\u001B[38;5;124minput_lon_idx\u001B[39m\u001B[38;5;124m\"\u001B[39m]]\u001B[38;5;241m.\u001B[39mvalues[\u001B[38;5;241m0\u001B[39m]\n\u001B[1;32m      9\u001B[0m input_lat_idx, input_lon_idx \u001B[38;5;241m=\u001B[39m input_coords\n\u001B[0;32m---> 11\u001B[0m output_path \u001B[38;5;241m=\u001B[39m \u001B[43mplot_explanation_map\u001B[49m\u001B[43m(\u001B[49m\n\u001B[1;32m     12\u001B[0m \u001B[43m    \u001B[49m\u001B[43mattributions\u001B[49m\u001B[43m[\u001B[49m\u001B[38;5;124;43m\"\u001B[39;49m\u001B[38;5;124;43mDeepESD\u001B[39;49m\u001B[38;5;124;43m\"\u001B[39;49m\u001B[43m]\u001B[49m\u001B[43m[\u001B[49m\u001B[38;5;124;43m\"\u001B[39;49m\u001B[38;5;124;43msaliency\u001B[39;49m\u001B[38;5;124;43m\"\u001B[39;49m\u001B[43m]\u001B[49m\u001B[43m[\u001B[49m\u001B[43mi\u001B[49m\u001B[43m]\u001B[49m\u001B[43m,\u001B[49m\n\u001B[1;32m     13\u001B[0m \u001B[43m    \u001B[49m\u001B[43mtitle\u001B[49m\u001B[38;5;241;43m=\u001B[39;49m\u001B[38;5;124;43m\"\u001B[39;49m\u001B[38;5;124;43mDeepESD - Saliency\u001B[39;49m\u001B[38;5;124;43m\"\u001B[39;49m\u001B[43m,\u001B[49m\n\u001B[1;32m     14\u001B[0m \u001B[43m    \u001B[49m\u001B[43minput_lats\u001B[49m\u001B[38;5;241;43m=\u001B[39;49m\u001B[43minput_lats\u001B[49m\u001B[43m,\u001B[49m\n\u001B[1;32m     15\u001B[0m \u001B[43m    \u001B[49m\u001B[43minput_lons\u001B[49m\u001B[38;5;241;43m=\u001B[39;49m\u001B[43minput_lons\u001B[49m\u001B[43m,\u001B[49m\n\u001B[1;32m     16\u001B[0m \u001B[43m    \u001B[49m\u001B[43mfilename\u001B[49m\u001B[38;5;241;43m=\u001B[39;49m\u001B[38;5;124;43mf\u001B[39;49m\u001B[38;5;124;43m\"\u001B[39;49m\u001B[38;5;124;43m../outputs/figures/explainability/deepesd_saliency_pixel-\u001B[39;49m\u001B[38;5;132;43;01m{\u001B[39;49;00m\u001B[43mi\u001B[49m\u001B[38;5;241;43m+\u001B[39;49m\u001B[38;5;241;43m1\u001B[39;49m\u001B[38;5;132;43;01m}\u001B[39;49;00m\u001B[38;5;124;43m.png\u001B[39;49m\u001B[38;5;124;43m\"\u001B[39;49m\u001B[43m,\u001B[49m\n\u001B[1;32m     17\u001B[0m \u001B[43m    \u001B[49m\u001B[43mpixel_coords\u001B[49m\u001B[38;5;241;43m=\u001B[39;49m\u001B[43m(\u001B[49m\u001B[43minput_lat_idx\u001B[49m\u001B[43m,\u001B[49m\u001B[43m \u001B[49m\u001B[43minput_lon_idx\u001B[49m\u001B[43m)\u001B[49m\u001B[43m,\u001B[49m\n\u001B[1;32m     18\u001B[0m \u001B[43m\u001B[49m\u001B[43m)\u001B[49m\n\u001B[1;32m     19\u001B[0m logging\u001B[38;5;241m.\u001B[39minfo(\u001B[38;5;124mf\u001B[39m\u001B[38;5;124m\"\u001B[39m\u001B[38;5;124m📸 Figure saved to \u001B[39m\u001B[38;5;132;01m{\u001B[39;00moutput_path\u001B[38;5;132;01m}\u001B[39;00m\u001B[38;5;124m\"\u001B[39m)\n\u001B[1;32m     20\u001B[0m display(Image(output_path))\n",
      "File \u001B[0;32m~/git/clear-climate/clear-climate-ws4/source/plot_explanation_maps.py:39\u001B[0m, in \u001B[0;36mplot_explanation_map\u001B[0;34m(attr, title, input_lats, input_lons, pixel_coords, cmap, filename)\u001B[0m\n\u001B[1;32m     37\u001B[0m ax\u001B[38;5;241m.\u001B[39mcoastlines(resolution\u001B[38;5;241m=\u001B[39m\u001B[38;5;124m\"\u001B[39m\u001B[38;5;124m10m\u001B[39m\u001B[38;5;124m\"\u001B[39m)\n\u001B[1;32m     38\u001B[0m ax\u001B[38;5;241m.\u001B[39madd_feature(cfeature\u001B[38;5;241m.\u001B[39mBORDERS, linestyle\u001B[38;5;241m=\u001B[39m\u001B[38;5;124m\"\u001B[39m\u001B[38;5;124m:\u001B[39m\u001B[38;5;124m\"\u001B[39m)\n\u001B[0;32m---> 39\u001B[0m ax\u001B[38;5;241m.\u001B[39mset_title(\u001B[38;5;124mf\u001B[39m\u001B[38;5;124m\"\u001B[39m\u001B[38;5;132;01m{\u001B[39;00mtitle\u001B[38;5;132;01m}\u001B[39;00m\u001B[38;5;130;01m\\n\u001B[39;00m\u001B[38;5;132;01m{\u001B[39;00m\u001B[43msuptitle\u001B[49m\u001B[38;5;132;01m}\u001B[39;00m\u001B[38;5;124m\"\u001B[39m, fontsize\u001B[38;5;241m=\u001B[39m\u001B[38;5;241m12\u001B[39m)\n\u001B[1;32m     41\u001B[0m \u001B[38;5;66;03m# Optional pixel highlight\u001B[39;00m\n\u001B[1;32m     42\u001B[0m \u001B[38;5;28;01mif\u001B[39;00m pixel_coords:\n",
      "\u001B[0;31mNameError\u001B[0m: name 'suptitle' is not defined"
     ]
    },
    {
     "data": {
      "text/plain": [
       "<Figure size 800x600 with 2 Axes>"
      ],
      "image/png": "[encoded data removed]"
     },
     "metadata": {},
     "output_type": "display_data"
    }
   ],
   "execution_count": 12
  },
  {
   "metadata": {
    "ExecuteTime": {
     "end_time": "2025-05-16T11:33:21.972217821Z",
     "start_time": "2025-05-16T11:10:47.214324Z"
    }
   },
   "cell_type": "code",
   "source": "",
   "id": "697d0d425701a732",
   "outputs": [],
   "execution_count": null
  }
 ],
 "metadata": {
  "kernelspec": {
   "display_name": "Python 3",
   "language": "python",
   "name": "python3"
  },
  "language_info": {
   "codemirror_mode": {
    "name": "ipython",
    "version": 2
   },
   "file_extension": ".py",
   "mimetype": "text/x-python",
   "name": "python",
   "nbconvert_exporter": "python",
   "pygments_lexer": "ipython2",
   "version": "2.7.6"
  }
 },
 "nbformat": 4,
 "nbformat_minor": 5
}
